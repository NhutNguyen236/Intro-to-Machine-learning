{
 "cells": [
  {
   "cell_type": "code",
   "execution_count": 1,
   "metadata": {},
   "outputs": [],
   "source": [
    "import numpy as np\n",
    "import matplotlib.pyplot as plt\n",
    "# sử dụng numpy"
   ]
  },
  {
   "cell_type": "code",
   "execution_count": 2,
   "metadata": {},
   "outputs": [
    {
     "name": "stdout",
     "output_type": "stream",
     "text": [
      "[1. 2. 3. 4. 5. 6. 7.]\n"
     ]
    },
    {
     "data": {
      "image/png": "[encoded data removed]",
      "text/plain": [
       "<Figure size 432x288 with 1 Axes>"
      ]
     },
     "metadata": {
      "needs_background": "light"
     },
     "output_type": "display_data"
    }
   ],
   "source": [
    "X=np.array([[1,2,3,4,5,6,7],\n",
    "           [1.1,2.2,3.3,4.5,5.4,6.5,7.6]])\n",
    "y=np.array([2,4.1,6.3,10.2,10.5,12.1,14.1])\n",
    "print(X[0])\n",
    "plt.plot(X[0],y,'ro')\n",
    "plt.xlabel('X')\n",
    "plt.ylabel('y')\n",
    "plt.show()\n"
   ]
  },
  {
   "cell_type": "code",
   "execution_count": 3,
   "metadata": {},
   "outputs": [
    {
     "name": "stdout",
     "output_type": "stream",
     "text": [
      "(2, 7)\n",
      "7\n",
      "[[1.]\n",
      " [1.]\n",
      " [1.]\n",
      " [1.]\n",
      " [1.]\n",
      " [1.]\n",
      " [1.]]\n",
      "[[1.  1.1]\n",
      " [2.  2.2]\n",
      " [3.  3.3]\n",
      " [4.  4.5]\n",
      " [5.  5.4]\n",
      " [6.  6.5]\n",
      " [7.  7.6]]\n",
      "[[1.  1.  1.1]\n",
      " [1.  2.  2.2]\n",
      " [1.  3.  3.3]\n",
      " [1.  4.  4.5]\n",
      " [1.  5.  5.4]\n",
      " [1.  6.  6.5]\n",
      " [1.  7.  7.6]]\n"
     ]
    }
   ],
   "source": [
    "print(X.shape)\n",
    "print(X.shape[1])\n",
    "one = np.ones((X.shape[1], 1))\n",
    "print(one)\n",
    "print(X.T) \n",
    "X = np.concatenate((one,X.T), axis=1)\n",
    "print(X) "
   ]
  },
  {
   "cell_type": "code",
   "execution_count": 4,
   "metadata": {},
   "outputs": [
    {
     "name": "stdout",
     "output_type": "stream",
     "text": [
      "(7, 3)\n",
      "(3, 1)\n",
      "[[ 3.1]\n",
      " [ 5.2]\n",
      " [ 7.3]\n",
      " [ 9.5]\n",
      " [11.4]\n",
      " [13.5]\n",
      " [15.6]]\n"
     ]
    }
   ],
   "source": [
    "w = np.array([[1]*X.shape[1]])\n",
    "w = w.T\n",
    "#print(w)\n",
    "print(X.shape)\n",
    "print(w.shape)\n",
    "print(np.dot(X,w))"
   ]
  },
  {
   "cell_type": "code",
   "execution_count": 5,
   "metadata": {},
   "outputs": [
    {
     "name": "stdout",
     "output_type": "stream",
     "text": [
      "[[ 3.1]\n",
      " [ 5.2]\n",
      " [ 7.3]\n",
      " [ 9.5]\n",
      " [11.4]\n",
      " [13.5]\n",
      " [15.6]]\n"
     ]
    }
   ],
   "source": [
    "def f(X,w):\n",
    "    return np.dot(X,w)\n",
    "print(f(X,w))"
   ]
  },
  {
   "cell_type": "code",
   "execution_count": 6,
   "metadata": {},
   "outputs": [
    {
     "name": "stdout",
     "output_type": "stream",
     "text": [
      "[ 2.   4.1  6.3 10.2 10.5 12.1 14.1]\n",
      "[[ 3.1]\n",
      " [ 5.2]\n",
      " [ 7.3]\n",
      " [ 9.5]\n",
      " [11.4]\n",
      " [13.5]\n",
      " [15.6]]\n",
      "[[-1.1 -1.1 -1.   0.7 -0.9 -1.4 -1.5]]\n",
      "[[0.63785714]]\n"
     ]
    }
   ],
   "source": [
    "# xây dựng một hàm loss mới\n",
    "print(y)\n",
    "y1 = f(X,w)\n",
    "print(y1)\n",
    "m = y-y1.T\n",
    "print(m)\n",
    "L = np.dot(m,m.T)/(2*X.shape[0])\n",
    "print(L)"
   ]
  },
  {
   "cell_type": "code",
   "execution_count": 7,
   "metadata": {},
   "outputs": [
    {
     "name": "stdout",
     "output_type": "stream",
     "text": [
      "[[1.  1.  1.1]\n",
      " [1.  2.  2.2]\n",
      " [1.  3.  3.3]\n",
      " [1.  4.  4.5]\n",
      " [1.  5.  5.4]\n",
      " [1.  6.  6.5]\n",
      " [1.  7.  7.6]]\n",
      "[ 2.   4.1  6.3 10.2 10.5 12.1 14.1]\n",
      "[[1]\n",
      " [1]\n",
      " [1]]\n",
      "0.637857142857143\n"
     ]
    }
   ],
   "source": [
    "def loss(X,y,w):\n",
    "    y1 = f(X,w)\n",
    "    m = y-y1.T\n",
    "    L = np.dot(m,m.T)/(2*X.shape[0])\n",
    "    return L[0][0]\n",
    "print(X)\n",
    "print(y)\n",
    "print(w)\n",
    "print(loss(X,y,w))"
   ]
  },
  {
   "cell_type": "code",
   "execution_count": 8,
   "metadata": {},
   "outputs": [
    {
     "name": "stdout",
     "output_type": "stream",
     "text": [
      "(7,)\n",
      "[ 3.1  5.2  7.3  9.5 11.4 13.5 15.6]\n",
      "[ 2.   4.1  6.3 10.2 10.5 12.1 14.1]\n",
      "(7,)\n",
      "(7, 3)\n",
      "[ 6.3  26.9  29.14]\n"
     ]
    }
   ],
   "source": [
    "z = f(X,w).T[0]\n",
    "\n",
    "print(z.shape)\n",
    "print(z)\n",
    "print(y)\n",
    "z = z-y\n",
    "print(z.shape)\n",
    "print(X.shape)\n",
    "print(np.dot(z,X))"
   ]
  },
  {
   "cell_type": "code",
   "execution_count": 9,
   "metadata": {},
   "outputs": [
    {
     "name": "stdout",
     "output_type": "stream",
     "text": [
      "[ 6.3  26.9  29.14]\n"
     ]
    }
   ],
   "source": [
    "# tính đạo hàm tại điểm w[i]\n",
    "def derivative(X,y,w):\n",
    "    z = f(X,w).T[0]\n",
    "    z = z-y\n",
    "    return np.dot(z,X)\n",
    "print(derivative(X,y,w))"
   ]
  },
  {
   "cell_type": "code",
   "execution_count": 10,
   "metadata": {},
   "outputs": [
    {
     "name": "stdout",
     "output_type": "stream",
     "text": [
      "[[1]\n",
      " [1]\n",
      " [1]]\n",
      "[0.063  0.269  0.2914]\n",
      "[1 1 1]\n",
      "[0.937  0.731  0.7086]\n",
      "[[0.937 ]\n",
      " [0.731 ]\n",
      " [0.7086]]\n"
     ]
    }
   ],
   "source": [
    "# update weights w \n",
    "w = np.array([[1]*X.shape[1]])\n",
    "w = w.T\n",
    "print(w)\n",
    "learning_rate = 0.01\n",
    "d = derivative(X,y,w)\n",
    "d = d*learning_rate \n",
    "print(d)\n",
    "w1 = w.T[0]\n",
    "print(w1)\n",
    "w1 = w1-d\n",
    "print(w1)\n",
    "w = np.array([w1]).T\n",
    "print(w)"
   ]
  },
  {
   "cell_type": "code",
   "execution_count": 11,
   "metadata": {},
   "outputs": [
    {
     "name": "stdout",
     "output_type": "stream",
     "text": [
      "[[1]\n",
      " [1]\n",
      " [1]]\n",
      "[[0.937 ]\n",
      " [0.731 ]\n",
      " [0.7086]]\n"
     ]
    }
   ],
   "source": [
    "# update weights w \n",
    "w = np.array([[1]*X.shape[1]])\n",
    "w = w.T\n",
    "print(w)\n",
    "learning_rate = 0.01\n",
    "def update_weights(X,y,w,learning_rate):\n",
    "    # tính đạo hàm\n",
    "    d = derivative(X,y,w)\n",
    "    d = d*learning_rate \n",
    "    w1 = w.T[0]-d\n",
    "    return np.array([w1]).T\n",
    "    \n",
    "w = update_weights(X,y,w,learning_rate)\n",
    "print(w)"
   ]
  },
  {
   "cell_type": "code",
   "execution_count": 12,
   "metadata": {},
   "outputs": [
    {
     "name": "stdout",
     "output_type": "stream",
     "text": [
      "(10, 1)\n",
      "[[ 1.  1.]\n",
      " [ 1.  2.]\n",
      " [ 1.  3.]\n",
      " [ 1.  4.]\n",
      " [ 1.  5.]\n",
      " [ 1.  6.]\n",
      " [ 1.  7.]\n",
      " [ 1.  8.]\n",
      " [ 1.  9.]\n",
      " [ 1. 10.]]\n",
      "[[1.668]\n",
      " [2.399]\n",
      " [3.13 ]\n",
      " [3.861]\n",
      " [4.592]\n",
      " [5.323]\n",
      " [6.054]\n",
      " [6.785]\n",
      " [7.516]\n",
      " [8.247]]\n",
      "[1.668 2.399 3.13  3.861 4.592 5.323 6.054 6.785 7.516 8.247]\n"
     ]
    }
   ],
   "source": [
    "x0 = np.linspace(start=1, stop=10, num=10)\n",
    "x0 = np.array([x0]).T\n",
    "print(x0.shape)\n",
    "one = np.ones((x0.shape[0], 1))\n",
    "x0 = np.concatenate((one,x0), axis=1)\n",
    "print(x0)\n",
    "z = np.dot(x0,w[:2])\n",
    "print(z)\n",
    "y0 = z.T[0]\n",
    "print(y0)"
   ]
  },
  {
   "cell_type": "code",
   "execution_count": 13,
   "metadata": {},
   "outputs": [
    {
     "data": {
      "image/png": "[encoded data removed]",
      "text/plain": [
       "<Figure size 432x288 with 1 Axes>"
      ]
     },
     "metadata": {
      "needs_background": "light"
     },
     "output_type": "display_data"
    }
   ],
   "source": [
    "# check\n",
    "plt.plot(X.T[1],y,'ro')\n",
    "plt.xlabel('X')\n",
    "plt.ylabel('Y')\n",
    "#x0 = np.linspace(start=1, stop=10, num=50)\n",
    "#y0 = w[0]+w[1]*x0\n",
    "x1 = np.linspace(start=1, stop=10, num=50)\n",
    "x0 = np.array([x1]).T\n",
    "one = np.ones((x0.shape[0], 1))\n",
    "x0 = np.concatenate((one,x0), axis=1)\n",
    "z = np.dot(x0,w[:2])\n",
    "y0 = z.T[0]\n",
    "plt.plot(x1,y0)\n",
    "plt.show()\n"
   ]
  },
  {
   "cell_type": "code",
   "execution_count": 14,
   "metadata": {},
   "outputs": [
    {
     "name": "stdout",
     "output_type": "stream",
     "text": [
      "[[1.  1.  1.1]\n",
      " [1.  2.  2.2]\n",
      " [1.  3.  3.3]\n",
      " [1.  4.  4.5]\n",
      " [1.  5.  5.4]\n",
      " [1.  6.  6.5]\n",
      " [1.  7.  7.6]]\n",
      "[ 2.   4.1  6.3 10.2 10.5 12.1 14.1]\n",
      "[[0.937 ]\n",
      " [0.731 ]\n",
      " [0.7086]]\n",
      "1.925854396114287\n"
     ]
    }
   ],
   "source": [
    "# check\n",
    "print(X)\n",
    "print(y)\n",
    "print(w)\n",
    "L = loss(X,y,w)\n",
    "print(L) "
   ]
  },
  {
   "cell_type": "code",
   "execution_count": 15,
   "metadata": {},
   "outputs": [
    {
     "data": {
      "image/png": "[encoded data removed]",
      "text/plain": [
       "<Figure size 432x288 with 1 Axes>"
      ]
     },
     "metadata": {
      "needs_background": "light"
     },
     "output_type": "display_data"
    },
    {
     "name": "stdout",
     "output_type": "stream",
     "text": [
      "epoch_ 0 :\n",
      "0.637857142857143  :  0\n"
     ]
    },
    {
     "data": {
      "image/png": "[encoded data removed]",
      "text/plain": [
       "<Figure size 432x288 with 1 Axes>"
      ]
     },
     "metadata": {
      "needs_background": "light"
     },
     "output_type": "display_data"
    },
    {
     "name": "stdout",
     "output_type": "stream",
     "text": [
      "epoch_ 1 :\n",
      "1.925854396114287  :  0.637857142857143\n"
     ]
    }
   ],
   "source": [
    "# training \n",
    "w = np.array([[1]*X.shape[1]])\n",
    "w = w.T\n",
    "epoch = 10\n",
    "los_old = 0\n",
    "for i in range(epoch):  \n",
    "    # hiển thị đồ thị \n",
    "    plt.plot(X.T[1],y,'ro')\n",
    "    plt.xlabel('X')\n",
    "    plt.ylabel('Y')\n",
    "    #x0 = np.linspace(start=1, stop=10, num=50)\n",
    "    #y0 = w[0]+w[1]*x0\n",
    "    x1 = np.linspace(start=1, stop=10, num=50)\n",
    "    x0 = np.array([x1]).T\n",
    "    one = np.ones((x0.shape[0], 1))\n",
    "    x0 = np.concatenate((one,x0), axis=1)\n",
    "    z = np.dot(x0,w[:2])\n",
    "    y0 = z.T[0]\n",
    "    plt.plot(x1,y0)\n",
    "    plt.show()\n",
    "    \n",
    "    # cập nhật tham số \n",
    "    L = loss(X,y,w)\n",
    "    print('epoch_',i,':')\n",
    "    print(L,' : ',los_old)\n",
    "    if L>(los_old-0.0001) and i>0:\n",
    "        break\n",
    "    los_old = L\n",
    "    # cập nhật \n",
    "    w = update_weights(X,y,w,learning_rate)\n",
    "    \n",
    "    \n",
    "    "
   ]
  },
  {
   "cell_type": "code",
   "execution_count": null,
   "metadata": {},
   "outputs": [],
   "source": []
  }
 ],
 "metadata": {
  "kernelspec": {
   "display_name": "Python 3",
   "language": "python",
   "name": "python3"
  },
  "language_info": {
   "codemirror_mode": {
    "name": "ipython",
    "version": 3
   },
   "file_extension": ".py",
   "mimetype": "text/x-python",
   "name": "python",
   "nbconvert_exporter": "python",
   "pygments_lexer": "ipython3",
   "version": "3.7.5"
  }
 },
 "nbformat": 4,
 "nbformat_minor": 2
}
