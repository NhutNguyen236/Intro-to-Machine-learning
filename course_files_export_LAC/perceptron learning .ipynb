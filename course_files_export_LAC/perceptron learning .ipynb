{
 "cells": [
  {
   "cell_type": "code",
   "execution_count": 195,
   "metadata": {},
   "outputs": [],
   "source": [
    "import numpy as np\n"
   ]
  },
  {
   "cell_type": "code",
   "execution_count": 196,
   "metadata": {},
   "outputs": [
    {
     "data": {
      "image/png": "[encoded data removed]",
      "text/plain": [
       "<Figure size 432x288 with 1 Axes>"
      ]
     },
     "metadata": {
      "needs_background": "light"
     },
     "output_type": "display_data"
    }
   ],
   "source": [
    "# step 1: sinh data\n",
    "means = [[2, 2], [4, 2]]\n",
    "cov = [[.3, .2], [.2, .3]]\n",
    "N = 20\n",
    "X0 = np.random.multivariate_normal(means[0], cov, N).T\n",
    "X1 = np.random.multivariate_normal(means[1], cov, N).T\n",
    "X = np.concatenate((X0, X1), axis = 1)\n",
    "y = np.concatenate((np.ones((1, N)), -1*np.ones((1, N))), axis = 1)\n",
    "# vẽ các điểm trên toạ độ \n",
    "import matplotlib.pyplot as plt\n",
    "plt.plot(X[0][:N],X[1][:N],'ro')\n",
    "plt.plot(X[0][N:],X[1][N:],'b^')\n",
    "plt.xlabel('X')\n",
    "plt.ylabel('Y')\n",
    "plt.show()\n"
   ]
  },
  {
   "cell_type": "code",
   "execution_count": 197,
   "metadata": {},
   "outputs": [
    {
     "name": "stdout",
     "output_type": "stream",
     "text": [
      "[[1.         2.4601587  2.42459064]\n",
      " [1.         1.86929417 1.71837659]\n",
      " [1.         2.35027854 3.18800855]]\n",
      "[[1.]\n",
      " [1.]\n",
      " [1.]]\n"
     ]
    }
   ],
   "source": [
    "# thêm X0=1 vào vector input X \n",
    "X = np.concatenate((np.ones((1, 2*N)), X), axis = 0)\n",
    "X = X.T\n",
    "y = y.T\n",
    "print(X[:3])\n",
    "print(y[:3])"
   ]
  },
  {
   "cell_type": "code",
   "execution_count": 198,
   "metadata": {},
   "outputs": [
    {
     "name": "stdout",
     "output_type": "stream",
     "text": [
      "(40, 3)\n",
      "(40, 1)\n"
     ]
    }
   ],
   "source": [
    "print(X.shape)\n",
    "print(y.shape)"
   ]
  },
  {
   "cell_type": "code",
   "execution_count": 199,
   "metadata": {},
   "outputs": [
    {
     "name": "stdout",
     "output_type": "stream",
     "text": [
      "[1 1 1]\n"
     ]
    }
   ],
   "source": [
    "w = np.array([1]*X.shape[1]) # khởi tạo w = 1\n",
    "print(w)"
   ]
  },
  {
   "cell_type": "code",
   "execution_count": 200,
   "metadata": {},
   "outputs": [
    {
     "name": "stdout",
     "output_type": "stream",
     "text": [
      "4.587670762683421\n",
      "[[5.88474934]\n",
      " [4.58767076]\n",
      " [6.53828709]\n",
      " [3.99648045]\n",
      " [6.50214251]\n",
      " [6.18225641]\n",
      " [7.285742  ]\n",
      " [4.71203271]\n",
      " [6.71749094]\n",
      " [6.36173989]\n",
      " [3.19278659]\n",
      " [4.24211053]\n",
      " [4.78636388]\n",
      " [4.35179812]\n",
      " [3.87239095]\n",
      " [6.28303746]\n",
      " [6.73043426]\n",
      " [4.35860872]\n",
      " [3.46904008]\n",
      " [4.65269459]\n",
      " [6.13266933]\n",
      " [6.73986495]\n",
      " [7.43175788]\n",
      " [7.92059678]\n",
      " [6.94441991]\n",
      " [7.69041438]\n",
      " [6.98554486]\n",
      " [7.17838107]\n",
      " [6.39909278]\n",
      " [8.38292257]\n",
      " [8.35719876]\n",
      " [5.83566253]\n",
      " [8.42850586]\n",
      " [6.96314709]\n",
      " [5.01516797]\n",
      " [7.35786634]\n",
      " [6.96830779]\n",
      " [8.88688259]\n",
      " [6.32511766]\n",
      " [8.27730043]]\n"
     ]
    }
   ],
   "source": [
    "# step 2: xây dựng các hàm f, loss, derivative \n",
    "# hàm y = f(x)   \n",
    "# w: tham số của model \n",
    "# x: một điểm ví dụ \n",
    "def f(w,x):\n",
    "    return np.dot(w.T,x)\n",
    "# test\n",
    "print(f(w,X[1]))\n",
    "\n",
    "# hàm tính tất cả các điểm\n",
    "# X là ma trận chứa tất cả các điểm \n",
    "def f(w,X):\n",
    "    a=np.dot(X,w.T)\n",
    "    return np.array([a]).T\n",
    "print(f(w,X))"
   ]
  },
  {
   "cell_type": "code",
   "execution_count": 201,
   "metadata": {},
   "outputs": [
    {
     "name": "stdout",
     "output_type": "stream",
     "text": [
      "(1, 40)\n",
      "(40, 1)\n",
      "[[-39.51296423]]\n"
     ]
    }
   ],
   "source": [
    "# test cho hàm loss \n",
    "y1 = f(X,w)\n",
    "t = np.dot(y1.T,y)\n",
    "print(y1.T.shape)\n",
    "print(y.shape)\n",
    "print(t)"
   ]
  },
  {
   "cell_type": "code",
   "execution_count": 202,
   "metadata": {},
   "outputs": [
    {
     "name": "stdout",
     "output_type": "stream",
     "text": [
      "39.51296422514734\n"
     ]
    }
   ],
   "source": [
    "# hàm loss\n",
    "def loss():\n",
    "    y1 = f(X,w)\n",
    "    t = np.dot(y1.T,y)\n",
    "    return -t[0][0]\n",
    "# test\n",
    "print(loss())"
   ]
  },
  {
   "cell_type": "code",
   "execution_count": 203,
   "metadata": {},
   "outputs": [
    {
     "name": "stdout",
     "output_type": "stream",
     "text": [
      "(40, 1)\n",
      "(40, 3)\n",
      "(1, 3)\n",
      "[[  0.         -39.34909269  -0.16387153]]\n"
     ]
    }
   ],
   "source": [
    "# test hàm derivative \n",
    "print(y.shape)\n",
    "print(X.shape)\n",
    "d1 = np.dot(y.T,X)\n",
    "print(d1.shape)\n",
    "print(d1)"
   ]
  },
  {
   "cell_type": "code",
   "execution_count": 204,
   "metadata": {},
   "outputs": [
    {
     "name": "stdout",
     "output_type": "stream",
     "text": [
      "[-0.         39.34909269  0.16387153]\n"
     ]
    }
   ],
   "source": [
    "# hàm derivative \n",
    "def derivative():\n",
    "    d1 = np.dot(y.T,X)\n",
    "    return -d1[0]\n",
    "d = derivative()\n",
    "print(d)"
   ]
  },
  {
   "cell_type": "code",
   "execution_count": 206,
   "metadata": {},
   "outputs": [
    {
     "name": "stdout",
     "output_type": "stream",
     "text": [
      "[ 1.          1.18367347  1.36734694  1.55102041  1.73469388  1.91836735\n",
      "  2.10204082  2.28571429  2.46938776  2.65306122  2.83673469  3.02040816\n",
      "  3.20408163  3.3877551   3.57142857  3.75510204  3.93877551  4.12244898\n",
      "  4.30612245  4.48979592  4.67346939  4.85714286  5.04081633  5.2244898\n",
      "  5.40816327  5.59183673  5.7755102   5.95918367  6.14285714  6.32653061\n",
      "  6.51020408  6.69387755  6.87755102  7.06122449  7.24489796  7.42857143\n",
      "  7.6122449   7.79591837  7.97959184  8.16326531  8.34693878  8.53061224\n",
      "  8.71428571  8.89795918  9.08163265  9.26530612  9.44897959  9.63265306\n",
      "  9.81632653 10.        ]\n"
     ]
    }
   ],
   "source": [
    "x0 = np.linspace(start=1, stop=10, num=50)\n",
    "y0 = w[0]+w[1]*x0\n",
    "print(x0)"
   ]
  },
  {
   "cell_type": "code",
   "execution_count": 207,
   "metadata": {},
   "outputs": [
    {
     "data": {
      "image/png": "[encoded data removed]",
      "text/plain": [
       "<Figure size 432x288 with 1 Axes>"
      ]
     },
     "metadata": {
      "needs_background": "light"
     },
     "output_type": "display_data"
    }
   ],
   "source": [
    "# vẽ đường w1x1 + w2x2 + w0x0 = 0\n",
    "w = [2,-1,2]\n",
    "X1 = X.T[1:]\n",
    "#print(X1)\n",
    "plt.plot(X1[0][:N],X1[1][:N],'ro')\n",
    "plt.plot(X1[0][N:],X1[1][N:],'b^')\n",
    "plt.xlabel('X')\n",
    "plt.ylabel('Y')\n",
    "\n",
    "x1 = np.linspace(start=1, stop=6, num=50)\n",
    "x2 =  (-w[0]-w[1]*x1)/w[2]\n",
    "plt.plot(x1,x2)\n",
    "\n",
    "plt.show()"
   ]
  },
  {
   "cell_type": "code",
   "execution_count": 208,
   "metadata": {},
   "outputs": [
    {
     "name": "stdout",
     "output_type": "stream",
     "text": [
      "-0.0: -1.5483779496505023\n",
      "w =  [ 0.         -0.03934909 -0.00016387]\n",
      "-1.5483779496505023: -3.0967558993010047\n",
      "w =  [ 0.         -0.07869819 -0.00032774]\n",
      "-3.0967558993010047: -4.645133848951508\n",
      "w =  [ 0.         -0.11804728 -0.00049161]\n",
      "-4.645133848951508: -6.193511798602009\n",
      "w =  [ 0.         -0.15739637 -0.00065549]\n",
      "-6.193511798602009: -7.741889748252511\n",
      "w =  [ 0.         -0.19674546 -0.00081936]\n",
      "-7.741889748252511: -9.290267697903015\n",
      "w =  [ 0.         -0.23609456 -0.00098323]\n",
      "-9.290267697903015: -10.838645647553518\n",
      "w =  [ 0.         -0.27544365 -0.0011471 ]\n",
      "-10.838645647553518: -12.387023597204019\n",
      "w =  [ 0.         -0.31479274 -0.00131097]\n",
      "-12.387023597204019: -13.93540154685452\n",
      "w =  [ 0.         -0.35414183 -0.00147484]\n",
      "-13.93540154685452: -15.483779496505022\n",
      "w =  [ 0.         -0.39349093 -0.00163872]\n"
     ]
    }
   ],
   "source": [
    "# step 3: training \n",
    "#w = np.array([1]*X.shape[1]) # khởi tạo w = 1\n",
    "#w = [2,-1,2]\n",
    "w = np.zeros(X.shape[1])\n",
    "learning_rate = 0.001\n",
    "epoch = 10\n",
    "old_loss = 0\n",
    "for i in range(epoch):\n",
    "   \n",
    "    old_loss = loss()\n",
    "    print(old_loss,end = ': ')\n",
    "    d = derivative()\n",
    "    w = w - learning_rate*d\n",
    "    new_loss=loss()\n",
    "    print(new_loss)\n",
    "   # if abs(old_loss-new_loss)<1 or new_loss<0:\n",
    "        #break\n",
    "   \n",
    "    print('w = ',w)\n",
    "    "
   ]
  },
  {
   "cell_type": "code",
   "execution_count": null,
   "metadata": {},
   "outputs": [],
   "source": [
    "# step 4: testing "
   ]
  }
 ],
 "metadata": {
  "kernelspec": {
   "display_name": "Python 3",
   "language": "python",
   "name": "python3"
  },
  "language_info": {
   "codemirror_mode": {
    "name": "ipython",
    "version": 3
   },
   "file_extension": ".py",
   "mimetype": "text/x-python",
   "name": "python",
   "nbconvert_exporter": "python",
   "pygments_lexer": "ipython3",
   "version": "3.7.5"
  }
 },
 "nbformat": 4,
 "nbformat_minor": 2
}
